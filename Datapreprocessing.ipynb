{
  "nbformat": 4,
  "nbformat_minor": 0,
  "metadata": {
    "colab": {
      "name": "Datapreprocessing.ipynb",
      "version": "0.3.2",
      "provenance": [],
      "include_colab_link": true
    },
    "language_info": {
      "codemirror_mode": {
        "name": "ipython",
        "version": 3
      },
      "file_extension": ".py",
      "mimetype": "text/x-python",
      "name": "python",
      "nbconvert_exporter": "python",
      "pygments_lexer": "ipython3",
      "version": "3.6.8"
    },
    "kernelspec": {
      "display_name": "Python 3",
      "language": "python",
      "name": "python3"
    }
  },
  "cells": [
    {
      "cell_type": "markdown",
      "metadata": {
        "id": "view-in-github",
        "colab_type": "text"
      },
      "source": [
        "<a href=\"https://colab.research.google.com/github/sailalitha96/Lung-Nodule-Detection/blob/master/Datapreprocessing.ipynb\" target=\"_parent\"><img src=\"https://colab.research.google.com/assets/colab-badge.svg\" alt=\"Open In Colab\"/></a>"
      ]
    },
    {
      "cell_type": "code",
      "metadata": {
        "id": "oYTcFfQTJfL2",
        "colab_type": "code",
        "colab": {}
      },
      "source": [
        "import numpy as np\n",
        "import pandas as pd\n",
        "import matplotlib.pyplot as plt\n",
        "import seaborn as sns \n",
        "import os\n",
        "import glob\n",
        "import SimpleITK as sitk\n",
        "from PIL import Image\n",
        "from scipy.misc import imread\n",
        "from joblib import Parallel, delayed\n",
        "import tflearn as tf\n",
        "from tflearn.data_utils import build_hdf5_image_dataset\n",
        "from scipy.ndimage import rotate, imread\n",
        "import h5py\n",
        "%matplotlib inline\n",
        "from IPython.display import clear_output\n",
        "pd.options.mode.chained_assignment = None\n",
        "\n",
        "\n",
        "from PIL import Image\n",
        "from scipy.misc import imread\n",
        "from joblib import Parallel, delayed\n",
        "import tflearn as tf\n",
        "from tflearn.data_utils import build_hdf5_image_dataset\n",
        "from scipy.ndimage import rotate, imread\n",
        "import h5py\n",
        "%matplotlib inline\n",
        "from IPython.display import clear_output\n",
        "pd.options.mode.chained_assignment = None\n",
        "from keras.layers import Input, merge\n",
        "from keras.layers import Convolution2D , concatenate ,Conv2D,Dense\n",
        "from keras.layers import Activation,Dropout, GlobalAveragePooling2D,MaxPooling2D\n",
        "from keras.models import Model\n",
        "from keras.optimizers import Adam ,SGD,RMSprop\n",
        "from keras.utils import  to_categorical\n",
        "import tensorflow as tf\n",
        "import numpy as np\n",
        "# import matplotlib.pyplot as plt\n",
        "# print(matplotlib.__file__)\n",
        "from keras.optimizers import *\n",
        "from keras.models import Model\n",
        "from keras.layers import *\n",
        "from keras.activations import *\n",
        "from keras.callbacks import *"
      ],
      "execution_count": 0,
      "outputs": []
    },
    {
      "cell_type": "code",
      "metadata": {
        "scrolled": false,
        "id": "mXD8n9fwJfL4",
        "colab_type": "code",
        "colab": {}
      },
      "source": [
        "#### Importing annotations and candidates csv files ####\n",
        "annotations = pd.read_csv('D:/data/annotations.csv')\n",
        "candidates = pd.read_csv('D:/data/candidates.csv')"
      ],
      "execution_count": 0,
      "outputs": []
    },
    {
      "cell_type": "code",
      "metadata": {
        "id": "GFVUJy6IJfL6",
        "colab_type": "code",
        "colab": {},
        "outputId": "a75721ee-022f-4dc8-c36d-53ace36ef14c"
      },
      "source": [
        "candidates.info()"
      ],
      "execution_count": 0,
      "outputs": [
        {
          "output_type": "stream",
          "text": [
            "<class 'pandas.core.frame.DataFrame'>\n",
            "RangeIndex: 551065 entries, 0 to 551064\n",
            "Data columns (total 5 columns):\n",
            "seriesuid    551065 non-null object\n",
            "coordX       551065 non-null float64\n",
            "coordY       551065 non-null float64\n",
            "coordZ       551065 non-null float64\n",
            "class        551065 non-null int64\n",
            "dtypes: float64(3), int64(1), object(1)\n",
            "memory usage: 21.0+ MB\n"
          ],
          "name": "stdout"
        }
      ]
    },
    {
      "cell_type": "code",
      "metadata": {
        "id": "UYhOWjQ6JfL9",
        "colab_type": "code",
        "colab": {},
        "outputId": "f99b7d92-f85c-46f6-b9c4-82d25f2d0877"
      },
      "source": [
        "annotations.info()"
      ],
      "execution_count": 0,
      "outputs": [
        {
          "output_type": "stream",
          "text": [
            "<class 'pandas.core.frame.DataFrame'>\n",
            "RangeIndex: 1186 entries, 0 to 1185\n",
            "Data columns (total 5 columns):\n",
            "seriesuid      1186 non-null object\n",
            "coordX         1186 non-null float64\n",
            "coordY         1186 non-null float64\n",
            "coordZ         1186 non-null float64\n",
            "diameter_mm    1186 non-null float64\n",
            "dtypes: float64(4), object(1)\n",
            "memory usage: 46.4+ KB\n"
          ],
          "name": "stdout"
        }
      ]
    },
    {
      "cell_type": "code",
      "metadata": {
        "id": "0rlDlC_vJfMA",
        "colab_type": "code",
        "colab": {},
        "outputId": "94fac621-852e-4562-a68b-80317ff83e7b"
      },
      "source": [
        "# ##################### Samples are heavily imbalanced #####################\n",
        "\n",
        "# print(len(candidates[candidates['class'] == 0]))\n",
        "# print(len(candidates[candidates['class'] == 1]))\n",
        "# print ('percentage of positive cases are ' + str(len(candidates[candidates['class'] == 1])*100.0/len(candidates))+\" %\")"
      ],
      "execution_count": 0,
      "outputs": [
        {
          "output_type": "stream",
          "text": [
            "549714\n",
            "1351\n",
            "percentage of positive cases are 0.24516164154863765 %\n"
          ],
          "name": "stdout"
        }
      ]
    },
    {
      "cell_type": "code",
      "metadata": {
        "id": "xFwi4iNPJfMC",
        "colab_type": "code",
        "colab": {}
      },
      "source": [
        "# positives = candidates[candidates['class']==1].index  \n",
        "# negatives = candidates[candidates['class']==0].index\n",
        "\n",
        "# ########################## Under sample negative class data ############################\n",
        "\n",
        "# np.random.seed(42)\n",
        "# neg_chosen_index = np.random.choice(negatives, len(positives)*4, replace = False)\n",
        "\n",
        "# candidates_df = candidates.iloc[list(positives)+list(neg_chosen_index)]"
      ],
      "execution_count": 0,
      "outputs": []
    },
    {
      "cell_type": "code",
      "metadata": {
        "id": "ZlyTaSAFJfME",
        "colab_type": "code",
        "colab": {}
      },
      "source": [
        "# #################### train_test_split into test and training sets #####################\n",
        "\n",
        "# from sklearn.model_selection import train_test_split\n",
        "# X = candidates_df.iloc[:,:-1]\n",
        "# y = candidates_df.iloc[:,-1]\n",
        "# X_train, X_test, y_train, y_test = train_test_split(X, y, test_size = 0.20, random_state = 42)"
      ],
      "execution_count": 0,
      "outputs": []
    },
    {
      "cell_type": "code",
      "metadata": {
        "id": "7MTJlt2VJfMF",
        "colab_type": "code",
        "colab": {}
      },
      "source": [
        "# #################################### Splitting training data further for validation set ##################################\n",
        "# X_train, X_eval, y_train, y_eval = train_test_split(X_train, y_train, test_size = 0.20, random_state = 42)"
      ],
      "execution_count": 0,
      "outputs": []
    },
    {
      "cell_type": "code",
      "metadata": {
        "id": "n5QHWDakJfMH",
        "colab_type": "code",
        "colab": {},
        "outputId": "01b4bf3a-7647-43b4-fbad-c4b498b96c3d"
      },
      "source": [
        "# ############################ Getting the proportions of positive cases in the training data ##############################\n",
        "\n",
        "# print ('number of positive cases are ' + str(y_train.sum()))\n",
        "# print ('total set size is ' + str(len(y_train)))\n",
        "# print ('percentage of positive cases are ' + str(y_train.sum()*100.0/len(y_train))+\" %\")"
      ],
      "execution_count": 0,
      "outputs": [
        {
          "output_type": "stream",
          "text": [
            "number of positive cases are 866\n",
            "total set size is 4323\n",
            "percentage of positive cases are 20.0323849178811 %\n"
          ],
          "name": "stdout"
        }
      ]
    },
    {
      "cell_type": "code",
      "metadata": {
        "id": "1q981zSTJfML",
        "colab_type": "code",
        "colab": {}
      },
      "source": [
        "# ############################ Using pickle for data storage ############################\n",
        "# X_train.to_pickle('train_data')\n",
        "# X_test.to_pickle('test_data')\n",
        "# X_eval.to_pickle('eval_data')\n",
        "# y_train.to_pickle('train_labels')\n",
        "# y_test.to_pickle('test_labels')\n",
        "# y_eval.to_pickle('eval_labels')"
      ],
      "execution_count": 0,
      "outputs": []
    },
    {
      "cell_type": "code",
      "metadata": {
        "id": "5hdbfPp6JfMN",
        "colab_type": "code",
        "colab": {}
      },
      "source": [
        "class ct_scan_processing(object):\n",
        "    \"\"\"\n",
        "    Class that manipulates and processes over images in the dataset using SimpleITK tools and PIL library.\n",
        "    Is responsible for:\n",
        "    1. Read the image from specified filename\n",
        "    2. Convert the image into it's array representation,\n",
        "    3. Get coordinates corresponding to origin, voxel,\n",
        "    4. Reset the coordinates of the original image,\n",
        "    5. Normalizes the image, \n",
        "    6. Writing the modified image back to the file.\n",
        "    \n",
        "    \"\"\"\n",
        "    def __init__(self, filename = None, coords = None, path = None):\n",
        "        \"\"\"\n",
        "        Constructor to initialize file name, coordinates, image array and PIL image object.\n",
        "        \n",
        "        \"\"\"\n",
        "        self.filename = filename\n",
        "        self.coords = coords\n",
        "        self.ds = None\n",
        "        self.image = None\n",
        "        self.file_storage_location = path\n",
        "\n",
        "    def set_coords(self, coords):\n",
        "        self.coords = coords\n",
        "\n",
        "    def read_mhd_image(self):\n",
        "        file_storage_location = glob.glob('D:/zipped folder/**/'+self.filename+'*.mhd', recursive =True)\n",
        "        # Reads the image using SimpleITK\n",
        "        self.ds = sitk.ReadImage(file_storage_location[0])\n",
        "         # Convert the image to a  numpy array\n",
        "        self.image = sitk.GetArrayFromImage(self.ds)\n",
        "\n",
        "    def get_resolution(self):\n",
        "        return self.ds.GetSpacing()\n",
        "\n",
        "    def get_origin(self):\n",
        "        return self.ds.GetOrigin()\n",
        "\n",
        "    def get_ds(self):\n",
        "        return self.ds\n",
        "\n",
        "    def get_voxel_coords(self):\n",
        "        origin = self.get_origin()\n",
        "        resolution = self.get_resolution()\n",
        "        voxel_coords = [np.absolute(self.coords[j]-origin[j])/resolution[j] \\\n",
        "            for j in range(len(self.coords))]\n",
        "        return tuple(voxel_coords)\n",
        "    \n",
        "    def get_image(self):\n",
        "        return self.image\n",
        "    \n",
        "    def get_subimage(self, width):\n",
        "        self.read_mhd_image()\n",
        "        x, y, z = self.get_voxel_coords()\n",
        "        subImage = self.image[int(z), int(y-width/2):int(y+width/2), int(x-width/2):int(x+width/2)]\n",
        "        return subImage   \n",
        "    \n",
        "    def normalizePlanes(self, npzarray):\n",
        "        \"\"\"\n",
        "        Normalizing the image using the appropriate maximum and minimum values associated \n",
        "        with a CT scan for lung cancer (in terms of Hounsfeld Units)\n",
        "        \n",
        "        \"\"\"\n",
        "        max_hu = 200.\n",
        "        min_hu= -1000.\n",
        "        npzarray = (npzarray - min_hu) / (max_hu - min_hu)\n",
        "        npzarray[npzarray>1] = 1.\n",
        "        npzarray[npzarray<0] = 0.\n",
        "        return npzarray\n",
        "    \n",
        "    def save_image(self, filename, width):\n",
        "        \"\"\"\n",
        "        Converts the normalized cropped image into a grayscale image and store in\n",
        "        the filename argument specified location.\n",
        "        \n",
        "        \"\"\"\n",
        "        image = self.get_subimage(width)\n",
        "        image = self.normalizePlanes(image)\n",
        "        Image.fromarray(image*255).convert('L').save(filename)"
      ],
      "execution_count": 0,
      "outputs": []
    },
    {
      "cell_type": "code",
      "metadata": {
        "id": "BTkXEagRJfMO",
        "colab_type": "code",
        "colab": {},
        "outputId": "e882c29c-f112-4413-cb52-ee380779f639"
      },
      "source": [
        "########################## Testing the ct_scan_processing class for different sub- image sizes #########################\n",
        "\n",
        "scan = ct_scan_processing(np.asarray(candidates.iloc[negatives[600]])[0], \\\n",
        "              np.asarray(candidates.iloc[negatives[600]])[1:-1])\n",
        "scan.read_mhd_image()\n",
        "image = scan.get_subimage(2000)\n",
        "plt.figure()\n",
        "plt.imshow(image, cmap = 'gray')\n",
        "image = scan.get_subimage(128)\n",
        "plt.figure()\n",
        "plt.imshow(image, cmap = 'gray')\n",
        "\n"
      ],
      "execution_count": 0,
      "outputs": [
        {
          "output_type": "execute_result",
          "data": {
            "text/plain": [
              "<matplotlib.image.AxesImage at 0x1cfcc8d4ba8>"
            ]
          },
          "metadata": {
            "tags": []
          },
          "execution_count": 30
        },
        {
          "output_type": "display_data",
          "data": {
            "image/png": "[encoded data removed]",
            "text/plain": [
              "<Figure size 432x288 with 1 Axes>"
            ]
          },
          "metadata": {
            "tags": [],
            "needs_background": "light"
          }
        },
        {
          "output_type": "display_data",
          "data": {
            "image/png": "[encoded data removed]",
            "text/plain": [
              "<Figure size 432x288 with 1 Axes>"
            ]
          },
          "metadata": {
            "tags": [],
            "needs_background": "light"
          }
        }
      ]
    },
    {
      "cell_type": "code",
      "metadata": {
        "id": "LQl-7Uu8JfMQ",
        "colab_type": "code",
        "colab": {},
        "outputId": "0569edcd-a195-4efb-dbcb-b316eee5df0a"
      },
      "source": [
        "############################ Testing the ct_scan_processing class on images with and without tumors ############################\n",
        "\n",
        "scan = ct_scan_processing(np.asarray(candidates.iloc[negatives[600]])[0], \\\n",
        "              np.asarray(candidates.iloc[negatives[600]])[1:-1])\n",
        "scan.read_mhd_image()\n",
        "image = scan.get_subimage(100)\n",
        "plt.figure()\n",
        "plt.imshow(image, cmap = 'gray')\n",
        "\n",
        "scan = ct_scan_processing(np.asarray(candidates.iloc[positives[10]])[0], \\\n",
        "              np.asarray(candidates.iloc[positives[10]])[1:-1])\n",
        "scan.read_mhd_image()\n",
        "image = scan.get_subimage(100)\n",
        "plt.figure()\n",
        "plt.imshow(image, cmap = 'gray')"
      ],
      "execution_count": 0,
      "outputs": [
        {
          "output_type": "execute_result",
          "data": {
            "text/plain": [
              "<matplotlib.image.AxesImage at 0x1cfcc881780>"
            ]
          },
          "metadata": {
            "tags": []
          },
          "execution_count": 31
        },
        {
          "output_type": "display_data",
          "data": {
            "image/png": "[encoded data removed]",
            "text/plain": [
              "<Figure size 432x288 with 1 Axes>"
            ]
          },
          "metadata": {
            "tags": [],
            "needs_background": "light"
          }
        },
        {
          "output_type": "display_data",
          "data": {
            "image/png": "[encoded data removed]",
            "text/plain": [
              "<Figure size 432x288 with 1 Axes>"
            ]
          },
          "metadata": {
            "tags": [],
            "needs_background": "light"
          }
        }
      ]
    },
    {
      "cell_type": "code",
      "metadata": {
        "id": "716IXvWFJfMS",
        "colab_type": "code",
        "colab": {}
      },
      "source": [
        "def create_data(idx, outDir, X_data,  width = 50):\n",
        "    '''\n",
        "    Aids in creating .jpg variant of original images\n",
        "    '''\n",
        "    mhd_image_path = \"D:/zipped folder/**/\"\n",
        "    scan = ct_scan_processing(np.asarray(X_data.loc[idx])[0],np.asarray(X_data.loc[idx])[1:], mhd_image_path)\n",
        "    outfile = outDir  +  str(idx)+ '.jpg'\n",
        "    scan.save_image(outfile, width)\n",
        "\n",
        "############################### Converting .mhd files to .jpg (cropped to recognize the nodules) ##############################\n",
        "\n",
        "# X_train_data = pd.read_pickle('train_data')\n",
        "# train_dir = 'D:/train_again/image_'\n",
        "# Parallel(n_jobs = 12)(delayed(create_data)(i, train_dir, X_train_data) for i in X_train_data.index)\n",
        "\n",
        "X_val_data = pd.read_pickle('eval_data')\n",
        "validation_dir = 'D:/val_again/image_'\n",
        "Parallel(n_jobs = 8)(delayed(create_data)(i, validation_dir, X_val_data) for i in X_val_data.index)"
      ],
      "execution_count": 0,
      "outputs": []
    },
    {
      "cell_type": "code",
      "metadata": {
        "id": "IC6RPV2WJfMU",
        "colab_type": "code",
        "colab": {}
      },
      "source": [
        "############################################### Data Augmentation using scipy ###############################################\n",
        "\n",
        "def data_augmentation_module(idx, mode):\n",
        "    '''\n",
        "    Performs an angular transfirmation of images to yield data for augmentation. This helps us compensates for lack of\n",
        "    sufficient positive cases in the data.\n",
        "    '''\n",
        "    input_image = imread('D:/'+ mode +'/image_' + str(idx)+ '.jpg')\n",
        "#     plt.figure()\n",
        "#     plt.imshow(input_image, cmap = 'gray')\n",
        "    # Rotate by 90 and saving it in the train folder with new index\n",
        "    input_to_90 = rotate(input_image, 90, reshape = False)\n",
        "    Image.fromarray(input_to_90).convert('L').save('D:/val_again/' +'image_' + str(idx+1000000) + '.jpg')\n",
        "    # Rotate by 180 and saving it in the train folder with new index\n",
        "    input_to_180 = rotate(input_image, 180, reshape = False)\n",
        "    Image.fromarray(input_to_180).convert('L').save('D:/val_again/' + 'image_' + str(idx+2000000) + '.jpg')\n",
        "\n",
        "X_train = pd.read_pickle('eval_data')\n",
        "mode = 'val_again'\n",
        "y_train = pd.read_pickle('eval_labels')\n",
        "indices = X_train[y_train == 1].index\n",
        "Parallel(n_jobs = 8)(delayed(data_augmentation_module)(i, mode) for i in indices)"
      ],
      "execution_count": 0,
      "outputs": []
    },
    {
      "cell_type": "code",
      "metadata": {
        "id": "RcALeP9RJfMY",
        "colab_type": "code",
        "colab": {}
      },
      "source": [
        "###################################### Building HD5 dataset with tensorflow ######################################\n",
        "\n",
        "def pickle_to_hdf5_file(mode):\n",
        "    '''\n",
        "    Creates an HDF5 for tensorflow operations using the indices in the pickle file\n",
        "    for train, validation,test.\n",
        "    '''    \n",
        "    X = pd.read_pickle('train' + '_data')\n",
        "    y = pd.read_pickle('train' + '_labels')  \n",
        "    index_list = X.index.to_series()    \n",
        "    files = index_list.apply(lambda x:'D:/'+ mode+ '/image_'+str(x)+'.jpg')\n",
        "    # Add augmented images to files\n",
        "    pos_indices = []\n",
        "    for i in y[y==1].index:\n",
        "        pos_indices.append([i+1000000])\n",
        "    index = [i+1000000 for i in y[y==1].index]\n",
        "    pos_indices = pd.Series( (v[0] for v in pos_indices), index = index)\n",
        "    files_aug_1 = pos_indices.apply(lambda x:'D:/'+ mode+ '/image_'+str(x)+'.jpg')\n",
        "    files_aug_1\n",
        "    pos_indices = []\n",
        "    for i in y[y==1].index:\n",
        "        pos_indices.append([i+2000000])\n",
        "    index = [i+2000000 for i in y[y==1].index]\n",
        "    pos_indices = pd.Series( (v[0] for v in pos_indices), index = index)\n",
        "    files_aug_2 = pos_indices.apply(lambda x:'D:/'+ mode+ '/image_'+str(x)+'.jpg')\n",
        "    files = files.append(files_aug_1)\n",
        "    files = files.append(files_aug_2)\n",
        "    # Adding labels for augmented images to y\n",
        "    pos_idx = [i+1000000 for i in y[y==1].index]\n",
        "    labels_aug_1 = [[1] for i in range(len(y[y==1].index))]\n",
        "    y_1 = pd.Series( (v[0] for v in labels_aug_1), index = pos_idx)\n",
        "    pos_idx = [i+2000000 for i in y[y==1].index]\n",
        "    labels_aug_2 = [[1] for i in range(len(y[y==1].index))]\n",
        "    y_2 = pd.Series( (v[0] for v in labels_aug_1), index = pos_idx)\n",
        "    y = y.append(y_1)\n",
        "    y = y.append(y_2)\n",
        "    # Convert files and labels to arrays\n",
        "    files = files.values.astype(str)\n",
        "    labels = y.values.astype(int)\n",
        "    # Arrays -> Dataset\n",
        "    dataset = pd.DataFrame({'files':files,'labels':labels})\n",
        "    # Dataset -> Interim Storage in a text file\n",
        "    dataset_file = mode + '_data_labels.txt'\n",
        "    np.savetxt(dataset_file, dataset, fmt=\"%10s %d\")\n",
        "    # Text File -> HDF5 images dataset\n",
        "    hdf5_file_name = mode + 'dataset.h5'\n",
        "    build_hdf5_image_dataset(dataset_file, image_shape = (50, 50, 1),mode ='file', output_path = hdf5_file_name, \n",
        "    categorical_labels = True, normalize = True, grayscale = True)"
      ],
      "execution_count": 0,
      "outputs": []
    },
    {
      "cell_type": "code",
      "metadata": {
        "id": "uEaFkTk8JfMa",
        "colab_type": "code",
        "colab": {}
      },
      "source": [
        "# modes = ['train_again', 'val_again', 'test']\n",
        "# # Train HDF5\n",
        "# pickle_to_hdf5_file(modes[0])\n",
        "# # Validation HDF5\n",
        "# # pickle_to_hdf5_file(modes[1])\n",
        "# # # Test HDF5\n",
        "# # pickle_to_hdf5_file(modes[2])"
      ],
      "execution_count": 0,
      "outputs": []
    },
    {
      "cell_type": "code",
      "metadata": {
        "id": "4pZL_KJlJfMc",
        "colab_type": "code",
        "colab": {}
      },
      "source": [
        "################################################## Loading HDF5 dataset ######################################################\n",
        "\n",
        "# Load HDF5 dataset\n",
        "def load_hdf_dataset(mode):\n",
        "    h5_file = h5py.File(mode+ 'dataset.h5', 'r')\n",
        "    images = h5_file ['X']\n",
        "    labels = h5_file ['Y'][:]\n",
        "    \n",
        "    images = images[:,:,:].reshape([-1,50,50,1])\n",
        "    h5_file.close()\n",
        "    return images, labels \n",
        "\n",
        "\n",
        "\n",
        "\n",
        "train_images , labels = load_hdf_dataset('train_again')\n",
        "\n",
        "print(train_images[0])\n",
        "\n",
        "val_images , val_labels = load_hdf_dataset('val_again')\n",
        "\n"
      ],
      "execution_count": 0,
      "outputs": []
    },
    {
      "cell_type": "code",
      "metadata": {
        "id": "Ogh8VoKYJfMd",
        "colab_type": "code",
        "colab": {}
      },
      "source": [
        "def build_squeezenet(input_shape):\n",
        "    \n",
        "    input_layer = Input(shape = input_shape)\n",
        "    \n",
        "    out = Conv2D(96, kernel_size =(3, 3), activation='relu')(input_layer)\n",
        "    out = MaxPooling2D(pool_size=2, strides=None, padding='valid')(out)\n",
        "    # no mxpooling done since small images \n",
        "    out = fire_module(out,squeeze =16 , expansion =64)\n",
        "    out = fire_module(out,squeeze = 16 , expansion=64)\n",
        "    \n",
        "    out = fire_module(out,squeeze= 32,expansion = 128)\n",
        "    out = fire_module(out,squeeze= 32,expansion = 128)\n",
        "    \n",
        "    out = fire_module(out , squeeze = 48 ,expansion=192)\n",
        "    out = fire_module(out,squeeze = 48 , expansion = 192)\n",
        "    \n",
        "    out = fire_module(out,squeeze = 64 , expansion = 256)\n",
        "    out = fire_module(out,squeeze = 64 , expansion = 256)\n",
        "    \n",
        "    out = Dropout(0.5)(out)\n",
        "    \n",
        "    out = Conv2D(2,kernel_size=(1,1),padding='valid',activation='tanh')(out)\n",
        "    \n",
        "    out = GlobalAveragePooling2D()(out)\n",
        "    out = Dense(2, activation=\"sigmoid\")(out)\n",
        "       \n",
        "    model = Model(input_layer, out, name='squeezenet')\n",
        "    return model  \n",
        "\n",
        "def threshold_binarize(x, threshold=0.5):\n",
        "    ge = tf.greater_equal(x, tf.constant(threshold))\n",
        "    y = tf.where(ge, x=tf.ones_like(x), y=tf.zeros_like(x))\n",
        "    return y"
      ],
      "execution_count": 0,
      "outputs": []
    },
    {
      "cell_type": "code",
      "metadata": {
        "id": "SE9tnkGoJfMf",
        "colab_type": "code",
        "colab": {}
      },
      "source": [
        "def fire_module(input_layer, squeeze =16 , expansion =32):\n",
        "\n",
        "# a definition for fire module et.al https://github.com/rcmalli/keras-squeezenet/\n",
        "# inspiration out = tf.map_fn(lambda x: threshold_binarize(x, threshold=0.5) , out, dtype=tf.int64)\n",
        "# squeezing using 1x1 kernel and expansion with 1x1 and 3x3. Concatenate the output to get best result.\n",
        "\n",
        "    fire_sq = Conv2D(squeeze,1,1,activation='relu')(input_layer)\n",
        "    fire_exp1 = Conv2D(expansion ,kernel_size=(1,1),activation='tanh',padding='valid')(fire_sq)\n",
        "    fire_exp2 = Conv2D(expansion ,kernel_size=(3,3),activation='tanh',padding='same')(fire_sq)\n",
        "    out = concatenate([fire_exp1,fire_exp2], axis=3)\n",
        "\n",
        "    return out"
      ],
      "execution_count": 0,
      "outputs": []
    },
    {
      "cell_type": "code",
      "metadata": {
        "scrolled": true,
        "id": "W2Oppc2MJfMg",
        "colab_type": "code",
        "colab": {}
      },
      "source": [
        "# model_dw = build_squeezenet(input_shape= (50,50,1))\n",
        "\n",
        "# sgd = SGD(lr=0.001, decay=1e-6, momentum=0.9, nesterov=True)\n",
        "\n",
        "# model_dw.compile(\n",
        "#     optimizer=sgd, loss='binary_crossentropy',\n",
        "#     metrics=['accuracy'])\n",
        "# model_dw.summary()\n",
        "# model_dw.fit(x=train_images, \n",
        "#             y=labels, \n",
        "#             batch_size=64,\n",
        "#             epochs=10, \n",
        "#             verbose=1,  \n",
        "# #             validation_split=0.2,\n",
        "#             validation_data=(val_images,val_labels), \n",
        "#             shuffle=True)\n",
        "\n",
        "# pred = model_dw.predict(val_images)\n"
      ],
      "execution_count": 0,
      "outputs": []
    },
    {
      "cell_type": "code",
      "metadata": {
        "id": "rTZAySGkJfMj",
        "colab_type": "code",
        "colab": {},
        "outputId": "b8d36cee-d3bb-4623-cb54-6ad6c42d93fa"
      },
      "source": [
        "pred[pred<=0.5]"
      ],
      "execution_count": 0,
      "outputs": [
        {
          "output_type": "execute_result",
          "data": {
            "text/plain": [
              "array([0.42874116, 0.42874068, 0.42874312, ..., 0.42874175, 0.42873842,\n",
              "       0.4287405 ], dtype=float32)"
            ]
          },
          "metadata": {
            "tags": []
          },
          "execution_count": 112
        }
      ]
    },
    {
      "cell_type": "code",
      "metadata": {
        "id": "fdnGpy0yJfMm",
        "colab_type": "code",
        "colab": {},
        "outputId": "f77ecb78-6fd8-48be-bc8c-9c98a7d03752"
      },
      "source": [
        "model_dw.summary()"
      ],
      "execution_count": 0,
      "outputs": [
        {
          "output_type": "stream",
          "text": [
            "__________________________________________________________________________________________________\n",
            "Layer (type)                    Output Shape         Param #     Connected to                     \n",
            "==================================================================================================\n",
            "input_6 (InputLayer)            (None, 50, 50, 1)    0                                            \n",
            "__________________________________________________________________________________________________\n",
            "conv2d_131 (Conv2D)             (None, 48, 48, 96)   960         input_6[0][0]                    \n",
            "__________________________________________________________________________________________________\n",
            "conv2d_132 (Conv2D)             (None, 48, 48, 16)   1552        conv2d_131[0][0]                 \n",
            "__________________________________________________________________________________________________\n",
            "conv2d_133 (Conv2D)             (None, 48, 48, 64)   1088        conv2d_132[0][0]                 \n",
            "__________________________________________________________________________________________________\n",
            "conv2d_134 (Conv2D)             (None, 48, 48, 64)   9280        conv2d_132[0][0]                 \n",
            "__________________________________________________________________________________________________\n",
            "concatenate_41 (Concatenate)    (None, 48, 48, 128)  0           conv2d_133[0][0]                 \n",
            "                                                                 conv2d_134[0][0]                 \n",
            "__________________________________________________________________________________________________\n",
            "conv2d_135 (Conv2D)             (None, 48, 48, 16)   2064        concatenate_41[0][0]             \n",
            "__________________________________________________________________________________________________\n",
            "conv2d_136 (Conv2D)             (None, 48, 48, 64)   1088        conv2d_135[0][0]                 \n",
            "__________________________________________________________________________________________________\n",
            "conv2d_137 (Conv2D)             (None, 48, 48, 64)   9280        conv2d_135[0][0]                 \n",
            "__________________________________________________________________________________________________\n",
            "concatenate_42 (Concatenate)    (None, 48, 48, 128)  0           conv2d_136[0][0]                 \n",
            "                                                                 conv2d_137[0][0]                 \n",
            "__________________________________________________________________________________________________\n",
            "conv2d_138 (Conv2D)             (None, 48, 48, 32)   4128        concatenate_42[0][0]             \n",
            "__________________________________________________________________________________________________\n",
            "conv2d_139 (Conv2D)             (None, 48, 48, 64)   2112        conv2d_138[0][0]                 \n",
            "__________________________________________________________________________________________________\n",
            "conv2d_140 (Conv2D)             (None, 48, 48, 64)   18496       conv2d_138[0][0]                 \n",
            "__________________________________________________________________________________________________\n",
            "concatenate_43 (Concatenate)    (None, 48, 48, 128)  0           conv2d_139[0][0]                 \n",
            "                                                                 conv2d_140[0][0]                 \n",
            "__________________________________________________________________________________________________\n",
            "conv2d_141 (Conv2D)             (None, 48, 48, 32)   4128        concatenate_43[0][0]             \n",
            "__________________________________________________________________________________________________\n",
            "conv2d_142 (Conv2D)             (None, 48, 48, 64)   2112        conv2d_141[0][0]                 \n",
            "__________________________________________________________________________________________________\n",
            "conv2d_143 (Conv2D)             (None, 48, 48, 64)   18496       conv2d_141[0][0]                 \n",
            "__________________________________________________________________________________________________\n",
            "concatenate_44 (Concatenate)    (None, 48, 48, 128)  0           conv2d_142[0][0]                 \n",
            "                                                                 conv2d_143[0][0]                 \n",
            "__________________________________________________________________________________________________\n",
            "conv2d_144 (Conv2D)             (None, 48, 48, 48)   6192        concatenate_44[0][0]             \n",
            "__________________________________________________________________________________________________\n",
            "conv2d_145 (Conv2D)             (None, 48, 48, 192)  9408        conv2d_144[0][0]                 \n",
            "__________________________________________________________________________________________________\n",
            "conv2d_146 (Conv2D)             (None, 48, 48, 192)  83136       conv2d_144[0][0]                 \n",
            "__________________________________________________________________________________________________\n",
            "concatenate_45 (Concatenate)    (None, 48, 48, 384)  0           conv2d_145[0][0]                 \n",
            "                                                                 conv2d_146[0][0]                 \n",
            "__________________________________________________________________________________________________\n",
            "conv2d_147 (Conv2D)             (None, 48, 48, 48)   18480       concatenate_45[0][0]             \n",
            "__________________________________________________________________________________________________\n",
            "conv2d_148 (Conv2D)             (None, 48, 48, 192)  9408        conv2d_147[0][0]                 \n",
            "__________________________________________________________________________________________________\n",
            "conv2d_149 (Conv2D)             (None, 48, 48, 192)  83136       conv2d_147[0][0]                 \n",
            "__________________________________________________________________________________________________\n",
            "concatenate_46 (Concatenate)    (None, 48, 48, 384)  0           conv2d_148[0][0]                 \n",
            "                                                                 conv2d_149[0][0]                 \n",
            "__________________________________________________________________________________________________\n",
            "conv2d_150 (Conv2D)             (None, 48, 48, 64)   24640       concatenate_46[0][0]             \n",
            "__________________________________________________________________________________________________\n",
            "conv2d_151 (Conv2D)             (None, 48, 48, 256)  16640       conv2d_150[0][0]                 \n",
            "__________________________________________________________________________________________________\n",
            "conv2d_152 (Conv2D)             (None, 48, 48, 256)  147712      conv2d_150[0][0]                 \n",
            "__________________________________________________________________________________________________\n",
            "concatenate_47 (Concatenate)    (None, 48, 48, 512)  0           conv2d_151[0][0]                 \n",
            "                                                                 conv2d_152[0][0]                 \n",
            "__________________________________________________________________________________________________\n",
            "conv2d_153 (Conv2D)             (None, 48, 48, 64)   32832       concatenate_47[0][0]             \n",
            "__________________________________________________________________________________________________\n",
            "conv2d_154 (Conv2D)             (None, 48, 48, 256)  16640       conv2d_153[0][0]                 \n",
            "__________________________________________________________________________________________________\n",
            "conv2d_155 (Conv2D)             (None, 48, 48, 256)  147712      conv2d_153[0][0]                 \n",
            "__________________________________________________________________________________________________\n",
            "concatenate_48 (Concatenate)    (None, 48, 48, 512)  0           conv2d_154[0][0]                 \n",
            "                                                                 conv2d_155[0][0]                 \n",
            "__________________________________________________________________________________________________\n",
            "dropout_6 (Dropout)             (None, 48, 48, 512)  0           concatenate_48[0][0]             \n",
            "__________________________________________________________________________________________________\n",
            "conv2d_156 (Conv2D)             (None, 48, 48, 2)    1026        dropout_6[0][0]                  \n",
            "__________________________________________________________________________________________________\n",
            "global_average_pooling2d_6 (Glo (None, 2)            0           conv2d_156[0][0]                 \n",
            "__________________________________________________________________________________________________\n",
            "dense_6 (Dense)                 (None, 2)            6           global_average_pooling2d_6[0][0] \n",
            "==================================================================================================\n",
            "Total params: 671,752\n",
            "Trainable params: 671,752\n",
            "Non-trainable params: 0\n",
            "__________________________________________________________________________________________________\n"
          ],
          "name": "stdout"
        }
      ]
    },
    {
      "cell_type": "code",
      "metadata": {
        "id": "NKqsDB2xJfMs",
        "colab_type": "code",
        "colab": {},
        "outputId": "44f5c390-e86f-42d0-8e27-2fed57dd95f5"
      },
      "source": [
        ""
      ],
      "execution_count": 0,
      "outputs": [
        {
          "output_type": "execute_result",
          "data": {
            "text/html": [
              "<div>\n",
              "<style scoped>\n",
              "    .dataframe tbody tr th:only-of-type {\n",
              "        vertical-align: middle;\n",
              "    }\n",
              "\n",
              "    .dataframe tbody tr th {\n",
              "        vertical-align: top;\n",
              "    }\n",
              "\n",
              "    .dataframe thead th {\n",
              "        text-align: right;\n",
              "    }\n",
              "</style>\n",
              "<table border=\"1\" class=\"dataframe\">\n",
              "  <thead>\n",
              "    <tr style=\"text-align: right;\">\n",
              "      <th></th>\n",
              "      <th>0</th>\n",
              "    </tr>\n",
              "  </thead>\n",
              "  <tbody>\n",
              "    <tr>\n",
              "      <th>0</th>\n",
              "      <td>D:/train_again/image_247896.jpg 0</td>\n",
              "    </tr>\n",
              "    <tr>\n",
              "      <th>1</th>\n",
              "      <td>D:/train_again/image_410153.jpg 0</td>\n",
              "    </tr>\n",
              "    <tr>\n",
              "      <th>2</th>\n",
              "      <td>D:/train_again/image_8941.jpg 0</td>\n",
              "    </tr>\n",
              "    <tr>\n",
              "      <th>3</th>\n",
              "      <td>D:/train_again/image_2826.jpg 0</td>\n",
              "    </tr>\n",
              "    <tr>\n",
              "      <th>4</th>\n",
              "      <td>D:/train_again/image_219239.jpg 0</td>\n",
              "    </tr>\n",
              "    <tr>\n",
              "      <th>5</th>\n",
              "      <td>D:/train_again/image_436163.jpg 1</td>\n",
              "    </tr>\n",
              "    <tr>\n",
              "      <th>6</th>\n",
              "      <td>D:/train_again/image_14141.jpg 1</td>\n",
              "    </tr>\n",
              "    <tr>\n",
              "      <th>7</th>\n",
              "      <td>D:/train_again/image_457933.jpg 1</td>\n",
              "    </tr>\n",
              "    <tr>\n",
              "      <th>8</th>\n",
              "      <td>D:/train_again/image_340200.jpg 0</td>\n",
              "    </tr>\n",
              "    <tr>\n",
              "      <th>9</th>\n",
              "      <td>D:/train_again/image_198850.jpg 0</td>\n",
              "    </tr>\n",
              "    <tr>\n",
              "      <th>10</th>\n",
              "      <td>D:/train_again/image_253843.jpg 0</td>\n",
              "    </tr>\n",
              "    <tr>\n",
              "      <th>11</th>\n",
              "      <td>D:/train_again/image_49575.jpg 0</td>\n",
              "    </tr>\n",
              "    <tr>\n",
              "      <th>12</th>\n",
              "      <td>D:/train_again/image_220514.jpg 0</td>\n",
              "    </tr>\n",
              "    <tr>\n",
              "      <th>13</th>\n",
              "      <td>D:/train_again/image_470002.jpg 0</td>\n",
              "    </tr>\n",
              "    <tr>\n",
              "      <th>14</th>\n",
              "      <td>D:/train_again/image_550729.jpg 0</td>\n",
              "    </tr>\n",
              "    <tr>\n",
              "      <th>15</th>\n",
              "      <td>D:/train_again/image_198834.jpg 1</td>\n",
              "    </tr>\n",
              "    <tr>\n",
              "      <th>16</th>\n",
              "      <td>D:/train_again/image_385920.jpg 0</td>\n",
              "    </tr>\n",
              "    <tr>\n",
              "      <th>17</th>\n",
              "      <td>D:/train_again/image_436852.jpg 0</td>\n",
              "    </tr>\n",
              "    <tr>\n",
              "      <th>18</th>\n",
              "      <td>D:/train_again/image_374357.jpg 0</td>\n",
              "    </tr>\n",
              "    <tr>\n",
              "      <th>19</th>\n",
              "      <td>D:/train_again/image_41512.jpg 0</td>\n",
              "    </tr>\n",
              "    <tr>\n",
              "      <th>20</th>\n",
              "      <td>D:/train_again/image_186378.jpg 0</td>\n",
              "    </tr>\n",
              "    <tr>\n",
              "      <th>21</th>\n",
              "      <td>D:/train_again/image_362506.jpg 0</td>\n",
              "    </tr>\n",
              "    <tr>\n",
              "      <th>22</th>\n",
              "      <td>D:/train_again/image_166160.jpg 0</td>\n",
              "    </tr>\n",
              "    <tr>\n",
              "      <th>23</th>\n",
              "      <td>D:/train_again/image_505918.jpg 0</td>\n",
              "    </tr>\n",
              "    <tr>\n",
              "      <th>24</th>\n",
              "      <td>D:/train_again/image_62439.jpg 1</td>\n",
              "    </tr>\n",
              "    <tr>\n",
              "      <th>25</th>\n",
              "      <td>D:/train_again/image_57990.jpg 0</td>\n",
              "    </tr>\n",
              "    <tr>\n",
              "      <th>26</th>\n",
              "      <td>D:/train_again/image_315566.jpg 0</td>\n",
              "    </tr>\n",
              "    <tr>\n",
              "      <th>27</th>\n",
              "      <td>D:/train_again/image_13987.jpg 1</td>\n",
              "    </tr>\n",
              "    <tr>\n",
              "      <th>28</th>\n",
              "      <td>D:/train_again/image_525910.jpg 1</td>\n",
              "    </tr>\n",
              "    <tr>\n",
              "      <th>29</th>\n",
              "      <td>D:/train_again/image_361606.jpg 0</td>\n",
              "    </tr>\n",
              "    <tr>\n",
              "      <th>...</th>\n",
              "      <td>...</td>\n",
              "    </tr>\n",
              "    <tr>\n",
              "      <th>6025</th>\n",
              "      <td>D:/train_again/image_2414568.jpg 1</td>\n",
              "    </tr>\n",
              "    <tr>\n",
              "      <th>6026</th>\n",
              "      <td>D:/train_again/image_2041201.jpg 1</td>\n",
              "    </tr>\n",
              "    <tr>\n",
              "      <th>6027</th>\n",
              "      <td>D:/train_again/image_2100406.jpg 1</td>\n",
              "    </tr>\n",
              "    <tr>\n",
              "      <th>6028</th>\n",
              "      <td>D:/train_again/image_2390010.jpg 1</td>\n",
              "    </tr>\n",
              "    <tr>\n",
              "      <th>6029</th>\n",
              "      <td>D:/train_again/image_2076846.jpg 1</td>\n",
              "    </tr>\n",
              "    <tr>\n",
              "      <th>6030</th>\n",
              "      <td>D:/train_again/image_2177804.jpg 1</td>\n",
              "    </tr>\n",
              "    <tr>\n",
              "      <th>6031</th>\n",
              "      <td>D:/train_again/image_2292489.jpg 1</td>\n",
              "    </tr>\n",
              "    <tr>\n",
              "      <th>6032</th>\n",
              "      <td>D:/train_again/image_2061596.jpg 1</td>\n",
              "    </tr>\n",
              "    <tr>\n",
              "      <th>6033</th>\n",
              "      <td>D:/train_again/image_2372555.jpg 1</td>\n",
              "    </tr>\n",
              "    <tr>\n",
              "      <th>6034</th>\n",
              "      <td>D:/train_again/image_2442220.jpg 1</td>\n",
              "    </tr>\n",
              "    <tr>\n",
              "      <th>6035</th>\n",
              "      <td>D:/train_again/image_2335545.jpg 1</td>\n",
              "    </tr>\n",
              "    <tr>\n",
              "      <th>6036</th>\n",
              "      <td>D:/train_again/image_2457913.jpg 1</td>\n",
              "    </tr>\n",
              "    <tr>\n",
              "      <th>6037</th>\n",
              "      <td>D:/train_again/image_2304567.jpg 1</td>\n",
              "    </tr>\n",
              "    <tr>\n",
              "      <th>6038</th>\n",
              "      <td>D:/train_again/image_2333565.jpg 1</td>\n",
              "    </tr>\n",
              "    <tr>\n",
              "      <th>6039</th>\n",
              "      <td>D:/train_again/image_2237348.jpg 1</td>\n",
              "    </tr>\n",
              "    <tr>\n",
              "      <th>6040</th>\n",
              "      <td>D:/train_again/image_2545256.jpg 1</td>\n",
              "    </tr>\n",
              "    <tr>\n",
              "      <th>6041</th>\n",
              "      <td>D:/train_again/image_2328335.jpg 1</td>\n",
              "    </tr>\n",
              "    <tr>\n",
              "      <th>6042</th>\n",
              "      <td>D:/train_again/image_2088782.jpg 1</td>\n",
              "    </tr>\n",
              "    <tr>\n",
              "      <th>6043</th>\n",
              "      <td>D:/train_again/image_2287694.jpg 1</td>\n",
              "    </tr>\n",
              "    <tr>\n",
              "      <th>6044</th>\n",
              "      <td>D:/train_again/image_2468235.jpg 1</td>\n",
              "    </tr>\n",
              "    <tr>\n",
              "      <th>6045</th>\n",
              "      <td>D:/train_again/image_2482514.jpg 1</td>\n",
              "    </tr>\n",
              "    <tr>\n",
              "      <th>6046</th>\n",
              "      <td>D:/train_again/image_2154401.jpg 1</td>\n",
              "    </tr>\n",
              "    <tr>\n",
              "      <th>6047</th>\n",
              "      <td>D:/train_again/image_2023573.jpg 1</td>\n",
              "    </tr>\n",
              "    <tr>\n",
              "      <th>6048</th>\n",
              "      <td>D:/train_again/image_2504167.jpg 1</td>\n",
              "    </tr>\n",
              "    <tr>\n",
              "      <th>6049</th>\n",
              "      <td>D:/train_again/image_2349678.jpg 1</td>\n",
              "    </tr>\n",
              "    <tr>\n",
              "      <th>6050</th>\n",
              "      <td>D:/train_again/image_2132392.jpg 1</td>\n",
              "    </tr>\n",
              "    <tr>\n",
              "      <th>6051</th>\n",
              "      <td>D:/train_again/image_2455757.jpg 1</td>\n",
              "    </tr>\n",
              "    <tr>\n",
              "      <th>6052</th>\n",
              "      <td>D:/train_again/image_2300642.jpg 1</td>\n",
              "    </tr>\n",
              "    <tr>\n",
              "      <th>6053</th>\n",
              "      <td>D:/train_again/image_2493696.jpg 1</td>\n",
              "    </tr>\n",
              "    <tr>\n",
              "      <th>6054</th>\n",
              "      <td>D:/train_again/image_2015647.jpg 1</td>\n",
              "    </tr>\n",
              "  </tbody>\n",
              "</table>\n",
              "<p>6055 rows × 1 columns</p>\n",
              "</div>"
            ],
            "text/plain": [
              "                                       0\n",
              "0      D:/train_again/image_247896.jpg 0\n",
              "1      D:/train_again/image_410153.jpg 0\n",
              "2        D:/train_again/image_8941.jpg 0\n",
              "3        D:/train_again/image_2826.jpg 0\n",
              "4      D:/train_again/image_219239.jpg 0\n",
              "5      D:/train_again/image_436163.jpg 1\n",
              "6       D:/train_again/image_14141.jpg 1\n",
              "7      D:/train_again/image_457933.jpg 1\n",
              "8      D:/train_again/image_340200.jpg 0\n",
              "9      D:/train_again/image_198850.jpg 0\n",
              "10     D:/train_again/image_253843.jpg 0\n",
              "11      D:/train_again/image_49575.jpg 0\n",
              "12     D:/train_again/image_220514.jpg 0\n",
              "13     D:/train_again/image_470002.jpg 0\n",
              "14     D:/train_again/image_550729.jpg 0\n",
              "15     D:/train_again/image_198834.jpg 1\n",
              "16     D:/train_again/image_385920.jpg 0\n",
              "17     D:/train_again/image_436852.jpg 0\n",
              "18     D:/train_again/image_374357.jpg 0\n",
              "19      D:/train_again/image_41512.jpg 0\n",
              "20     D:/train_again/image_186378.jpg 0\n",
              "21     D:/train_again/image_362506.jpg 0\n",
              "22     D:/train_again/image_166160.jpg 0\n",
              "23     D:/train_again/image_505918.jpg 0\n",
              "24      D:/train_again/image_62439.jpg 1\n",
              "25      D:/train_again/image_57990.jpg 0\n",
              "26     D:/train_again/image_315566.jpg 0\n",
              "27      D:/train_again/image_13987.jpg 1\n",
              "28     D:/train_again/image_525910.jpg 1\n",
              "29     D:/train_again/image_361606.jpg 0\n",
              "...                                  ...\n",
              "6025  D:/train_again/image_2414568.jpg 1\n",
              "6026  D:/train_again/image_2041201.jpg 1\n",
              "6027  D:/train_again/image_2100406.jpg 1\n",
              "6028  D:/train_again/image_2390010.jpg 1\n",
              "6029  D:/train_again/image_2076846.jpg 1\n",
              "6030  D:/train_again/image_2177804.jpg 1\n",
              "6031  D:/train_again/image_2292489.jpg 1\n",
              "6032  D:/train_again/image_2061596.jpg 1\n",
              "6033  D:/train_again/image_2372555.jpg 1\n",
              "6034  D:/train_again/image_2442220.jpg 1\n",
              "6035  D:/train_again/image_2335545.jpg 1\n",
              "6036  D:/train_again/image_2457913.jpg 1\n",
              "6037  D:/train_again/image_2304567.jpg 1\n",
              "6038  D:/train_again/image_2333565.jpg 1\n",
              "6039  D:/train_again/image_2237348.jpg 1\n",
              "6040  D:/train_again/image_2545256.jpg 1\n",
              "6041  D:/train_again/image_2328335.jpg 1\n",
              "6042  D:/train_again/image_2088782.jpg 1\n",
              "6043  D:/train_again/image_2287694.jpg 1\n",
              "6044  D:/train_again/image_2468235.jpg 1\n",
              "6045  D:/train_again/image_2482514.jpg 1\n",
              "6046  D:/train_again/image_2154401.jpg 1\n",
              "6047  D:/train_again/image_2023573.jpg 1\n",
              "6048  D:/train_again/image_2504167.jpg 1\n",
              "6049  D:/train_again/image_2349678.jpg 1\n",
              "6050  D:/train_again/image_2132392.jpg 1\n",
              "6051  D:/train_again/image_2455757.jpg 1\n",
              "6052  D:/train_again/image_2300642.jpg 1\n",
              "6053  D:/train_again/image_2493696.jpg 1\n",
              "6054  D:/train_again/image_2015647.jpg 1\n",
              "\n",
              "[6055 rows x 1 columns]"
            ]
          },
          "metadata": {
            "tags": []
          },
          "execution_count": 24
        }
      ]
    }
  ]
}