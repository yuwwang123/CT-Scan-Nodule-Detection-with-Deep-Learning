{
  "nbformat": 4,
  "nbformat_minor": 0,
  "metadata": {
    "colab": {
      "name": "squeezenet-working.ipynb",
      "version": "0.3.2",
      "provenance": [],
      "include_colab_link": true
    },
    "language_info": {
      "codemirror_mode": {
        "name": "ipython",
        "version": 3
      },
      "file_extension": ".py",
      "mimetype": "text/x-python",
      "name": "python",
      "nbconvert_exporter": "python",
      "pygments_lexer": "ipython3",
      "version": "3.6.8"
    },
    "kernelspec": {
      "display_name": "Python 3",
      "language": "python",
      "name": "python3"
    }
  },
  "cells": [
    {
      "cell_type": "markdown",
      "metadata": {
        "id": "view-in-github",
        "colab_type": "text"
      },
      "source": [
        "<a href=\"https://colab.research.google.com/github/sailalitha96/Lung-Nodule-Detection/blob/master/Squeezenet.ipynb\" target=\"_parent\"><img src=\"https://colab.research.google.com/assets/colab-badge.svg\" alt=\"Open In Colab\"/></a>"
      ]
    },
    {
      "metadata": {
        "id": "JDjYgzobzQcG",
        "colab_type": "code",
        "colab": {}
      },
      "cell_type": "code",
      "source": [
        "from PIL import Image\n",
        "from sklearn.utils import class_weight\n",
        "from scipy.misc import imread\n",
        "from joblib import Parallel, delayed\n",
        "import tflearn as tf\n",
        "from tflearn.data_utils import build_hdf5_image_dataset\n",
        "from scipy.ndimage import rotate, imread\n",
        "import h5py\n",
        "import numpy as np \n",
        "import pandas as pd\n",
        "%matplotlib inline\n",
        "from IPython.display import clear_output\n",
        "pd.options.mode.chained_assignment = None\n",
        "from keras.layers import Input, merge\n",
        "from keras.layers import Convolution2D , concatenate ,Conv2D,Dense\n",
        "from keras.layers import Activation,Dropout, GlobalAveragePooling2D,MaxPooling2D\n",
        "from keras.models import Model\n",
        "from keras.optimizers import Adam ,SGD,RMSprop\n",
        "from keras.utils import  to_categorical\n",
        "import tensorflow as tf\n",
        "import numpy as np\n",
        "# import matplotlib.pyplot as plt\n",
        "# print(matplotlib.__file__)\n",
        "from keras.optimizers import *\n",
        "from keras.models import Model\n",
        "from keras.layers import *\n",
        "from keras.activations import *\n",
        "from keras.callbacks import *"
      ],
      "execution_count": 0,
      "outputs": []
    },
    {
      "metadata": {
        "id": "IMtDltCEzQcN",
        "colab_type": "code",
        "colab": {},
        "outputId": "c517a2f8-256c-42b2-95a9-c6000c413736"
      },
      "cell_type": "code",
      "source": [
        "# Load HDF5 dataset\n",
        "def load_hdf_dataset(mode):\n",
        "    h5_file = h5py.File(mode+ 'dataset.h5', 'r')\n",
        "    images = h5_file ['X']\n",
        "    labels = h5_file ['Y'][:]\n",
        "    \n",
        "    images = images[:,:,:].reshape([-1,50,50,1])\n",
        "    h5_file.close()\n",
        "    return images, labels \n",
        "\n",
        "\n",
        "\n",
        "\n",
        "train_images , tr_labels = load_hdf_dataset('train_again')\n",
        "\n",
        "    \n",
        "\n",
        "val_images , val_labels = load_hdf_dataset('val_again')\n",
        "\n",
        "# images = np.concatenate((train_images,val_images))\n",
        "\n",
        "# labels  = np.concatenate((tr_labels,val_labels))\n",
        "\n",
        "# getting indexes\n",
        "lab_0 = tr_labels[:,0] \n",
        "zeros_class= np.where(lab_0 ==1)\n",
        "lab_1 = tr_labels[:,1]\n",
        "ones_class= np.where(lab_1 ==1)\n",
        "\n",
        "for no in zeros_class:\n",
        "    train_0 = train_images[no,:,:,:]\n",
        "    train_labels_0 = tr_labels[no,:]\n",
        "\n",
        "for no in ones_class:\n",
        "    \n",
        "    train_1 = train_images[no,:,:,:]\n",
        "    train_labels_1 = tr_labels[no,:]\n",
        "\n",
        "\n",
        "train_0 = train_0[ :len(train_labels_1), :,:,:]\n",
        "train_labels_0= train_labels_0[ :len(train_labels_1), :]\n",
        "\n",
        "images = np.concatenate((train_0,train_1))\n",
        "images = np.asarray(images)\n",
        "\n",
        "labels =  np.concatenate((train_labels_0,train_labels_1))\n",
        "labels = np.asarray(labels)\n",
        "labels.shape\n"
      ],
      "execution_count": 0,
      "outputs": [
        {
          "output_type": "execute_result",
          "data": {
            "text/plain": [
              "(5196, 2)"
            ]
          },
          "metadata": {
            "tags": []
          },
          "execution_count": 169
        }
      ]
    },
    {
      "metadata": {
        "id": "YYmhKU9DzQcU",
        "colab_type": "code",
        "colab": {}
      },
      "cell_type": "code",
      "source": [
        "# y_score = []\n",
        "def build_squeezenet(input_shape):\n",
        "    \n",
        "    input_layer = Input(shape = input_shape)\n",
        "    \n",
        "    out = Conv2D(96, kernel_size =(3, 3), activation='relu')(input_layer)\n",
        "    out = MaxPooling2D(pool_size=2, strides=None, padding='valid')(out)\n",
        "    # no mxpooling done since small images \n",
        "    out = fire_module(out,squeeze =16 , expansion =64)\n",
        "    out = fire_module(out,squeeze = 16 , expansion=64)\n",
        "    \n",
        "    out = fire_module(out,squeeze= 32,expansion = 128)\n",
        "    out = fire_module(out,squeeze= 32,expansion = 128)\n",
        "    \n",
        "    out = fire_module(out , squeeze = 48 ,expansion=192)\n",
        "    out = fire_module(out,squeeze = 48 , expansion = 192)\n",
        "    \n",
        "    out = fire_module(out,squeeze = 64 , expansion = 256)\n",
        "    out = fire_module(out,squeeze = 64 , expansion = 256)\n",
        "    \n",
        "    out = Dropout(0.5)(out)\n",
        "    out = Conv2D(32,kernel_size=(1,1),padding='valid',activation='relu')(out)\n",
        "    out = GlobalAveragePooling2D()(out)\n",
        "    out = Dense(2, activation=\"softmax\")(out)\n",
        "#     y_score =out[:,]   \n",
        "    model = Model(input_layer, out, name='squeezenet')\n",
        "    return model  \n"
      ],
      "execution_count": 0,
      "outputs": []
    },
    {
      "metadata": {
        "id": "xtpVBzaozQcZ",
        "colab_type": "code",
        "colab": {}
      },
      "cell_type": "code",
      "source": [
        "def fire_module(input_layer, squeeze =16 , expansion =32):\n",
        "\n",
        "# a definition for fire module et.al https://github.com/rcmalli/keras-squeezenet/\n",
        "# inspiration out = tf.map_fn(lambda x: threshold_binarize(x, threshold=0.5) , out, dtype=tf.int64)\n",
        "# squeezing using 1x1 kernel and expansion with 1x1 and 3x3. Concatenate the output to get best result.\n",
        "\n",
        "    fire_sq = Conv2D(squeeze,1,1,activation= 'relu')(input_layer)\n",
        "    fire_exp1 = Conv2D(expansion ,kernel_size=(1,1),activation='relu',padding='valid')(fire_sq)\n",
        "    fire_exp2 = Conv2D(expansion ,kernel_size=(3,3),activation='relu',padding='same')(fire_sq)\n",
        "    out = concatenate([fire_exp1,fire_exp2], axis=3)\n",
        "\n",
        "    return out"
      ],
      "execution_count": 0,
      "outputs": []
    },
    {
      "metadata": {
        "id": "kgtkFEb3zQce",
        "colab_type": "code",
        "colab": {},
        "outputId": "8f1f3a35-cdd6-4c3f-a0ae-4ed3ff9b216a"
      },
      "cell_type": "code",
      "source": [
        "del model_dw\n",
        "model_dw = build_squeezenet(input_shape= (50,50,1))\n",
        "\n",
        "# sgd = SGD(lr=0.001, decay=1e-6, momentum=0.9, nesterov=True)\n",
        "sgd = Adam(lr=0.0001)\n",
        "model_dw.compile(\n",
        "    optimizer=sgd, loss='categorical_crossentropy',\n",
        "    metrics=['accuracy'])\n",
        "\n",
        "# weights = class_weight.compute_class_weight('balanced',\n",
        "#                                             np.unique(val_labels[:,0]) ,\n",
        "#                                             val_labels[:,0])\n",
        "\n",
        "wt = np.array([ 0.4,0.6])\n",
        "# model_dw.summary()\n",
        "model_dw.fit(x=train_images, \n",
        "            y=tr_labels, \n",
        "            batch_size=32,\n",
        "            epochs=20, \n",
        "            verbose=1,  \n",
        "#             validation_split=0.2,\n",
        "            class_weight= wt,\n",
        "            validation_data=(val_images,val_labels), \n",
        "            shuffle=True)\n",
        "\n",
        "# pred = model_dw.predict(val_images)\n"
      ],
      "execution_count": 0,
      "outputs": [
        {
          "output_type": "stream",
          "text": [
            "C:\\Users\\Sailalitha\\Anaconda3\\envs\\tensorflow_gpuenv\\lib\\site-packages\\ipykernel_launcher.py:7: UserWarning: Update your `Conv2D` call to the Keras 2 API: `Conv2D(16, (1, 1), activation=\"relu\")`\n",
            "  import sys\n",
            "C:\\Users\\Sailalitha\\Anaconda3\\envs\\tensorflow_gpuenv\\lib\\site-packages\\ipykernel_launcher.py:7: UserWarning: Update your `Conv2D` call to the Keras 2 API: `Conv2D(32, (1, 1), activation=\"relu\")`\n",
            "  import sys\n",
            "C:\\Users\\Sailalitha\\Anaconda3\\envs\\tensorflow_gpuenv\\lib\\site-packages\\ipykernel_launcher.py:7: UserWarning: Update your `Conv2D` call to the Keras 2 API: `Conv2D(48, (1, 1), activation=\"relu\")`\n",
            "  import sys\n",
            "C:\\Users\\Sailalitha\\Anaconda3\\envs\\tensorflow_gpuenv\\lib\\site-packages\\ipykernel_launcher.py:7: UserWarning: Update your `Conv2D` call to the Keras 2 API: `Conv2D(64, (1, 1), activation=\"relu\")`\n",
            "  import sys\n"
          ],
          "name": "stderr"
        },
        {
          "output_type": "stream",
          "text": [
            "Train on 6055 samples, validate on 1501 samples\n",
            "Epoch 1/20\n",
            "6055/6055 [==============================] - 72s 12ms/step - loss: 0.6851 - acc: 0.5709 - val_loss: 0.6773 - val_acc: 0.5803\n",
            "Epoch 2/20\n",
            "6055/6055 [==============================] - 33s 5ms/step - loss: 0.6733 - acc: 0.5688 - val_loss: 0.6565 - val_acc: 0.5836\n",
            "Epoch 3/20\n",
            "6055/6055 [==============================] - 33s 5ms/step - loss: 0.6558 - acc: 0.5794 - val_loss: 0.6274 - val_acc: 0.6316\n",
            "Epoch 4/20\n",
            "6055/6055 [==============================] - 33s 5ms/step - loss: 0.5991 - acc: 0.6639 - val_loss: 0.5734 - val_acc: 0.6809\n",
            "Epoch 5/20\n",
            "6055/6055 [==============================] - 33s 5ms/step - loss: 0.5691 - acc: 0.7007 - val_loss: 0.5655 - val_acc: 0.7089\n",
            "Epoch 6/20\n",
            "6055/6055 [==============================] - 33s 5ms/step - loss: 0.5605 - acc: 0.7069 - val_loss: 0.5527 - val_acc: 0.7202\n",
            "Epoch 7/20\n",
            "6055/6055 [==============================] - 33s 5ms/step - loss: 0.5394 - acc: 0.7174 - val_loss: 0.5390 - val_acc: 0.7275\n",
            "Epoch 8/20\n",
            "6055/6055 [==============================] - 33s 5ms/step - loss: 0.5418 - acc: 0.7227 - val_loss: 0.5353 - val_acc: 0.7388\n",
            "Epoch 9/20\n",
            "6055/6055 [==============================] - 33s 5ms/step - loss: 0.5236 - acc: 0.7384 - val_loss: 0.5595 - val_acc: 0.6989\n",
            "Epoch 10/20\n",
            "6055/6055 [==============================] - 33s 5ms/step - loss: 0.5045 - acc: 0.7457 - val_loss: 0.4974 - val_acc: 0.7455\n",
            "Epoch 11/20\n",
            "6055/6055 [==============================] - 33s 5ms/step - loss: 0.4821 - acc: 0.7701 - val_loss: 0.4802 - val_acc: 0.7455\n",
            "Epoch 12/20\n",
            "6055/6055 [==============================] - 33s 6ms/step - loss: 0.4709 - acc: 0.7706 - val_loss: 0.4883 - val_acc: 0.7575\n",
            "Epoch 13/20\n",
            "6055/6055 [==============================] - 33s 5ms/step - loss: 0.4450 - acc: 0.7871 - val_loss: 0.4695 - val_acc: 0.7742\n",
            "Epoch 14/20\n",
            "6055/6055 [==============================] - 33s 5ms/step - loss: 0.4338 - acc: 0.7995 - val_loss: 0.5825 - val_acc: 0.7702\n",
            "Epoch 15/20\n",
            "6055/6055 [==============================] - 33s 5ms/step - loss: 0.4249 - acc: 0.8033 - val_loss: 0.4536 - val_acc: 0.7861\n",
            "Epoch 16/20\n",
            "6055/6055 [==============================] - 33s 5ms/step - loss: 0.4059 - acc: 0.8162 - val_loss: 0.4325 - val_acc: 0.7955\n",
            "Epoch 17/20\n",
            "6055/6055 [==============================] - 33s 5ms/step - loss: 0.3990 - acc: 0.8215 - val_loss: 0.4131 - val_acc: 0.8208\n",
            "Epoch 18/20\n",
            "6055/6055 [==============================] - 33s 5ms/step - loss: 0.3849 - acc: 0.8286 - val_loss: 0.4256 - val_acc: 0.8148\n",
            "Epoch 19/20\n",
            "6055/6055 [==============================] - 33s 5ms/step - loss: 0.3827 - acc: 0.8324 - val_loss: 0.4194 - val_acc: 0.8235\n",
            "Epoch 20/20\n",
            "6055/6055 [==============================] - 33s 5ms/step - loss: 0.3586 - acc: 0.8418 - val_loss: 0.3832 - val_acc: 0.8314\n"
          ],
          "name": "stdout"
        },
        {
          "output_type": "execute_result",
          "data": {
            "text/plain": [
              "<keras.callbacks.History at 0x280fa1dd128>"
            ]
          },
          "metadata": {
            "tags": []
          },
          "execution_count": 205
        }
      ]
    },
    {
      "metadata": {
        "id": "EH7j6FbkzQcm",
        "colab_type": "code",
        "colab": {}
      },
      "cell_type": "code",
      "source": [
        "pred = model_dw.predict(val_images)"
      ],
      "execution_count": 0,
      "outputs": []
    },
    {
      "metadata": {
        "id": "fjgOFYZ0zQcr",
        "colab_type": "code",
        "colab": {}
      },
      "cell_type": "code",
      "source": [
        "y_score = pred[:,1]\n",
        "y_sq = pd.DataFrame(y_score)\n",
        "y_sq.to_csv('texts.csv')"
      ],
      "execution_count": 0,
      "outputs": []
    },
    {
      "metadata": {
        "id": "8xJZFRPKzQcw",
        "colab_type": "code",
        "colab": {}
      },
      "cell_type": "code",
      "source": [
        "y_true=val_labels[:,1]"
      ],
      "execution_count": 0,
      "outputs": []
    },
    {
      "metadata": {
        "id": "_dOCJaCPzQc0",
        "colab_type": "code",
        "colab": {},
        "outputId": "19e8b147-5265-4056-f478-1195ba740bde"
      },
      "cell_type": "code",
      "source": [
        "pred = model_dw.predict(val_images)\n",
        "y_score = pred[:,1]\n",
        "y_true=val_labels[:,1]\n",
        "\n",
        "from sklearn.metrics import roc_curve , confusion_matrix \n",
        "\n",
        "\n",
        "fpr , tpr, thres = roc_curve(y_true , y_score , pos_label = 1) \n",
        "\n",
        "y= []\n",
        "for i in range(len(y_score)):\n",
        "    if (y_score[i]>=0.5):\n",
        "        y.append(1)\n",
        "    else :\n",
        "        y.append(0)\n",
        "\n",
        "y = np.asarray(y)\n",
        "y\n",
        "\n",
        "tn , fp , fn , tp = confusion_matrix(y_true, y).ravel()\n",
        "tn , fp , fn , tp\n",
        "\n",
        "\n",
        "\n",
        "import matplotlib.pyplot as plt\n",
        "from sklearn.metrics import roc_curve, auc , roc_auc_score\n",
        "fpr = dict()\n",
        "tpr = dict()\n",
        "roc_auc = dict()\n",
        "for i in range(2):\n",
        "    fpr[i], tpr[i], _ = roc_curve(y_true, y_score)\n",
        "    roc_auc[i] = auc(fpr[i], tpr[i])\n",
        "\n",
        "print (roc_auc_score(y_true, y_score))\n",
        "plt.figure()\n",
        "plt.plot(fpr[1], tpr[1])\n",
        "plt.xlim([0.0, 1.0])\n",
        "plt.ylim([0.0, 1.05])\n",
        "plt.xlabel('False Positive Rate')\n",
        "plt.ylabel('True Positive Rate')\n",
        "plt.title('Receiver operating characteristic')\n",
        "plt.show()"
      ],
      "execution_count": 0,
      "outputs": [
        {
          "output_type": "stream",
          "text": [
            "0.9063728974176736\n"
          ],
          "name": "stdout"
        },
        {
          "output_type": "display_data",
          "data": {
            "image/png": "[encoded data removed]",
            "text/plain": [
              "<Figure size 432x288 with 1 Axes>"
            ]
          },
          "metadata": {
            "tags": [],
            "needs_background": "light"
          }
        }
      ]
    },
    {
      "metadata": {
        "id": "NRIZvMcrzQc8",
        "colab_type": "code",
        "colab": {},
        "outputId": "08bddad3-7fe0-42d8-c723-ead5f0fcc52c"
      },
      "cell_type": "code",
      "source": [
        "import matplotlib.pyplot as plt\n",
        "\n",
        "plt.plot(fpr,tpr)"
      ],
      "execution_count": 0,
      "outputs": [
        {
          "output_type": "execute_result",
          "data": {
            "text/plain": [
              "[<matplotlib.lines.Line2D at 0x281066c9fd0>]"
            ]
          },
          "metadata": {
            "tags": []
          },
          "execution_count": 215
        },
        {
          "output_type": "display_data",
          "data": {
            "image/png": "[encoded data removed]",
            "text/plain": [
              "<Figure size 432x288 with 1 Axes>"
            ]
          },
          "metadata": {
            "tags": [],
            "needs_background": "light"
          }
        }
      ]
    },
    {
      "metadata": {
        "id": "2Ogz827WzQdC",
        "colab_type": "code",
        "colab": {},
        "outputId": "135d6e0a-b7ca-4d28-b1c4-565c39110451"
      },
      "cell_type": "code",
      "source": [
        "## training plots "
      ],
      "execution_count": 0,
      "outputs": [
        {
          "output_type": "display_data",
          "data": {
            "image/png": "[encoded data removed]",
            "text/plain": [
              "<Figure size 432x288 with 1 Axes>"
            ]
          },
          "metadata": {
            "tags": [],
            "needs_background": "light"
          }
        }
      ]
    },
    {
      "metadata": {
        "id": "kDbjAgZXzQdI",
        "colab_type": "code",
        "colab": {},
        "outputId": "cf9ae624-0564-4052-e609-6022dd8d558e"
      },
      "cell_type": "code",
      "source": [
        "## validating plots"
      ],
      "execution_count": 0,
      "outputs": [
        {
          "output_type": "display_data",
          "data": {
            "image/png": "[encoded data removed]",
            "text/plain": [
              "<Figure size 432x288 with 1 Axes>"
            ]
          },
          "metadata": {
            "tags": [],
            "needs_background": "light"
          }
        }
      ]
    },
    {
      "metadata": {
        "id": "alPNzJUvzQdO",
        "colab_type": "code",
        "colab": {}
      },
      "cell_type": "code",
      "source": [
        ""
      ],
      "execution_count": 0,
      "outputs": []
    }
  ]
}